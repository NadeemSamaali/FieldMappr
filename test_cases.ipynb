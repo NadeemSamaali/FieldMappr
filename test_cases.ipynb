{
 "cells": [
  {
   "cell_type": "markdown",
   "metadata": {},
   "source": [
    "Importing fieldmappr library"
   ]
  },
  {
   "cell_type": "code",
   "execution_count": 2,
   "metadata": {},
   "outputs": [],
   "source": [
    "from fieldmappr import *"
   ]
  },
  {
   "cell_type": "markdown",
   "metadata": {},
   "source": [
    "**Test Case 1** : Two point charges of opposite charge / Dipole"
   ]
  },
  {
   "cell_type": "code",
   "execution_count": null,
   "metadata": {},
   "outputs": [],
   "source": [
    "test1 = E_map()\n",
    "test1.build_point((0,0,20), 1e-6)\n",
    "test1.build_point((0,0,-20), -1e-6)\n",
    "test1.show_map()"
   ]
  },
  {
   "cell_type": "markdown",
   "metadata": {},
   "source": [
    "**Test Case 2** : Two rods of charge of opposite charge"
   ]
  },
  {
   "cell_type": "code",
   "execution_count": null,
   "metadata": {},
   "outputs": [],
   "source": [
    "test2 = E_map()\n",
    "test2.build_rod((-20,-20,-20),(-10,-10,-10), 1e-6, 0.1)\n",
    "test2.build_rod((10,30,20),(30,10,20), -1e-6, 0.1)\n",
    "test2.show_map()"
   ]
  },
  {
   "cell_type": "markdown",
   "metadata": {},
   "source": [
    "**Test Case 3** : Two rings of charge of opposite charge"
   ]
  },
  {
   "cell_type": "code",
   "execution_count": null,
   "metadata": {},
   "outputs": [],
   "source": [
    "test3 = E_map()\n",
    "test3.build_ring((0,0,0), (0,0,1), 5, 1e-6)\n",
    "test3.build_ring((0,0,0), (0,0,1), 20, -1e-6)\n",
    "test3.show_map()"
   ]
  }
 ],
 "metadata": {
  "kernelspec": {
   "display_name": "Python 3",
   "language": "python",
   "name": "python3"
  },
  "language_info": {
   "codemirror_mode": {
    "name": "ipython",
    "version": 3
   },
   "file_extension": ".py",
   "mimetype": "text/x-python",
   "name": "python",
   "nbconvert_exporter": "python",
   "pygments_lexer": "ipython3",
   "version": "3.12.3"
  }
 },
 "nbformat": 4,
 "nbformat_minor": 2
}
